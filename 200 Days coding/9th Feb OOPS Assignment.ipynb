{
 "cells": [
  {
   "cell_type": "markdown",
   "id": "efb7b170",
   "metadata": {},
   "source": [
    "# Q1, Create a vehicle class with an init method having instance variables as name_of_vehicle, max_speed and average_of_vehicle."
   ]
  },
  {
   "cell_type": "code",
   "execution_count": 3,
   "id": "c40defb2",
   "metadata": {},
   "outputs": [],
   "source": [
    "class vechile:\n",
    "    def __init__(self,name,speed,avg):\n",
    "        self.name=name\n",
    "        self.speed=speed\n",
    "        self.avg=avg"
   ]
  },
  {
   "cell_type": "code",
   "execution_count": 4,
   "id": "9076b559",
   "metadata": {},
   "outputs": [],
   "source": [
    "ob=vechile(\"Toyota\",100,120)"
   ]
  },
  {
   "cell_type": "code",
   "execution_count": 5,
   "id": "af43bbf0",
   "metadata": {},
   "outputs": [
    {
     "data": {
      "text/plain": [
       "'Toyota'"
      ]
     },
     "execution_count": 5,
     "metadata": {},
     "output_type": "execute_result"
    }
   ],
   "source": [
    "ob.name"
   ]
  },
  {
   "cell_type": "code",
   "execution_count": 6,
   "id": "d05769ae",
   "metadata": {},
   "outputs": [
    {
     "data": {
      "text/plain": [
       "100"
      ]
     },
     "execution_count": 6,
     "metadata": {},
     "output_type": "execute_result"
    }
   ],
   "source": [
    "ob.speed"
   ]
  },
  {
   "cell_type": "code",
   "execution_count": 7,
   "id": "9ebf3ebc",
   "metadata": {},
   "outputs": [
    {
     "data": {
      "text/plain": [
       "120"
      ]
     },
     "execution_count": 7,
     "metadata": {},
     "output_type": "execute_result"
    }
   ],
   "source": [
    "ob.avg"
   ]
  },
  {
   "cell_type": "code",
   "execution_count": 8,
   "id": "c3b69e32",
   "metadata": {},
   "outputs": [],
   "source": [
    "ob.name=\"Ford\""
   ]
  },
  {
   "cell_type": "code",
   "execution_count": 9,
   "id": "18f52c45",
   "metadata": {},
   "outputs": [
    {
     "data": {
      "text/plain": [
       "'Ford'"
      ]
     },
     "execution_count": 9,
     "metadata": {},
     "output_type": "execute_result"
    }
   ],
   "source": [
    "ob.name"
   ]
  },
  {
   "cell_type": "markdown",
   "id": "b9c901ca",
   "metadata": {},
   "source": [
    "# Q2. Create a child class car from the vehicle class created in Que 1, which will inherit the vehicle class. Create a method named seating_capacity which takes capacity as an argument and returns the name of the vehicle and its seating capacity."
   ]
  },
  {
   "cell_type": "code",
   "execution_count": 10,
   "id": "cbb56333",
   "metadata": {},
   "outputs": [],
   "source": [
    "class child(vechile):\n",
    "    def seating_capacity(self,seating_capacity):\n",
    "        return \"name of vechile is \"+str(self.name)+\" and capacity is \"+str(seating_capacity)"
   ]
  },
  {
   "cell_type": "code",
   "execution_count": 14,
   "id": "5c12531c",
   "metadata": {},
   "outputs": [],
   "source": [
    "ob2=child(\"Toyota\",120,130)"
   ]
  },
  {
   "cell_type": "code",
   "execution_count": 15,
   "id": "af3a3115",
   "metadata": {},
   "outputs": [
    {
     "data": {
      "text/plain": [
       "'name of vechile is Toyota and capacity is 6'"
      ]
     },
     "execution_count": 15,
     "metadata": {},
     "output_type": "execute_result"
    }
   ],
   "source": [
    "ob2.seating_capacity(6)"
   ]
  },
  {
   "cell_type": "markdown",
   "id": "5a653171",
   "metadata": {},
   "source": [
    "# Q3. What is multiple inheritance? Write a python code to demonstrate multiple inheritance."
   ]
  },
  {
   "cell_type": "code",
   "execution_count": 16,
   "id": "6ca1b6f6",
   "metadata": {},
   "outputs": [],
   "source": [
    "# Multiple Inheritance is the one , where a single class inherits features of one or more parent classes."
   ]
  },
  {
   "cell_type": "code",
   "execution_count": 17,
   "id": "0358ae38",
   "metadata": {},
   "outputs": [],
   "source": [
    "class A:\n",
    "    def AO(self):\n",
    "        print(\"This is A\")\n",
    "class B:\n",
    "    def BO(self):\n",
    "        print(\"This is B\")\n",
    "class C(A,B):\n",
    "    pass"
   ]
  },
  {
   "cell_type": "code",
   "execution_count": 18,
   "id": "72ece547",
   "metadata": {},
   "outputs": [],
   "source": [
    "ob2=C()"
   ]
  },
  {
   "cell_type": "code",
   "execution_count": 19,
   "id": "93c2dd35",
   "metadata": {},
   "outputs": [
    {
     "name": "stdout",
     "output_type": "stream",
     "text": [
      "This is A\n"
     ]
    }
   ],
   "source": [
    "ob2.AO()"
   ]
  },
  {
   "cell_type": "code",
   "execution_count": 20,
   "id": "7df8c23e",
   "metadata": {},
   "outputs": [
    {
     "name": "stdout",
     "output_type": "stream",
     "text": [
      "This is B\n"
     ]
    }
   ],
   "source": [
    "ob2.BO()"
   ]
  },
  {
   "cell_type": "markdown",
   "id": "27102052",
   "metadata": {},
   "source": [
    "# Q4. What are getter and setter in python? Create a class and create a getter and a setter method in this class."
   ]
  },
  {
   "cell_type": "code",
   "execution_count": 21,
   "id": "7036ff01",
   "metadata": {},
   "outputs": [],
   "source": [
    "# Getter is used to retreive values of object attributes ---- used as get\n",
    "# Setter is used to set values of object attributes      ---- used as set"
   ]
  },
  {
   "cell_type": "code",
   "execution_count": 26,
   "id": "8ed459fd",
   "metadata": {},
   "outputs": [],
   "source": [
    "class class1:\n",
    "    def __init__(self,make,model,speed):\n",
    "        self.make=make\n",
    "        self.model=model\n",
    "        self.speed=speed\n",
    "    def get_speed(self):\n",
    "        return self.speed\n",
    "    def set_speed(self,spd):\n",
    "        self.speed=spd"
   ]
  },
  {
   "cell_type": "code",
   "execution_count": 27,
   "id": "70e65ae4",
   "metadata": {},
   "outputs": [],
   "source": [
    "ob=class1(\"BMW\",3.0,190)"
   ]
  },
  {
   "cell_type": "code",
   "execution_count": 28,
   "id": "112ab0f7",
   "metadata": {},
   "outputs": [
    {
     "data": {
      "text/plain": [
       "190"
      ]
     },
     "execution_count": 28,
     "metadata": {},
     "output_type": "execute_result"
    }
   ],
   "source": [
    "ob.get_speed()"
   ]
  },
  {
   "cell_type": "code",
   "execution_count": 29,
   "id": "d99bafb7",
   "metadata": {},
   "outputs": [],
   "source": [
    "ob.set_speed(150)"
   ]
  },
  {
   "cell_type": "code",
   "execution_count": 30,
   "id": "ef0488d7",
   "metadata": {},
   "outputs": [
    {
     "data": {
      "text/plain": [
       "150"
      ]
     },
     "execution_count": 30,
     "metadata": {},
     "output_type": "execute_result"
    }
   ],
   "source": [
    "ob.get_speed()"
   ]
  },
  {
   "cell_type": "markdown",
   "id": "f0639a3d",
   "metadata": {},
   "source": [
    "# Q5.What is method overriding in python? Write a python code to demonstrate method overriding."
   ]
  },
  {
   "cell_type": "code",
   "execution_count": 31,
   "id": "9c829f0a",
   "metadata": {},
   "outputs": [],
   "source": [
    "# Method overriding in Python is a feature of object-oriented programming (OOP) that allows a subclass to provide a different \n",
    "# implementation of a method that is already defined in its superclass. "
   ]
  },
  {
   "cell_type": "code",
   "execution_count": 32,
   "id": "e2a90a8f",
   "metadata": {},
   "outputs": [],
   "source": [
    "class classA:\n",
    "    def out(self):\n",
    "        return \"This is class A Output\"\n",
    "class classB(classA):\n",
    "    def out(self):\n",
    "        return \"This is class B Output\""
   ]
  },
  {
   "cell_type": "code",
   "execution_count": 33,
   "id": "a195940f",
   "metadata": {},
   "outputs": [],
   "source": [
    "ob=classB()"
   ]
  },
  {
   "cell_type": "code",
   "execution_count": 34,
   "id": "c905b97e",
   "metadata": {},
   "outputs": [
    {
     "data": {
      "text/plain": [
       "'This is class B Output'"
      ]
     },
     "execution_count": 34,
     "metadata": {},
     "output_type": "execute_result"
    }
   ],
   "source": [
    "ob.out()"
   ]
  },
  {
   "cell_type": "code",
   "execution_count": null,
   "id": "2357d78c",
   "metadata": {},
   "outputs": [],
   "source": []
  }
 ],
 "metadata": {
  "kernelspec": {
   "display_name": "Python 3 (ipykernel)",
   "language": "python",
   "name": "python3"
  },
  "language_info": {
   "codemirror_mode": {
    "name": "ipython",
    "version": 3
   },
   "file_extension": ".py",
   "mimetype": "text/x-python",
   "name": "python",
   "nbconvert_exporter": "python",
   "pygments_lexer": "ipython3",
   "version": "3.9.13"
  }
 },
 "nbformat": 4,
 "nbformat_minor": 5
}

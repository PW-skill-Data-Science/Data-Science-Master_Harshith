{
 "cells": [
  {
   "cell_type": "markdown",
   "id": "e9723c90",
   "metadata": {},
   "source": [
    "# Polymorphism"
   ]
  },
  {
   "cell_type": "code",
   "execution_count": 1,
   "id": "79d038af",
   "metadata": {},
   "outputs": [],
   "source": [
    "# It is the way in which a function works differently based on the input data passed"
   ]
  },
  {
   "cell_type": "code",
   "execution_count": 2,
   "id": "bf64969e",
   "metadata": {},
   "outputs": [],
   "source": [
    "def test(a,b):\n",
    "    return a+b"
   ]
  },
  {
   "cell_type": "code",
   "execution_count": 3,
   "id": "520b66ba",
   "metadata": {},
   "outputs": [
    {
     "data": {
      "text/plain": [
       "11"
      ]
     },
     "execution_count": 3,
     "metadata": {},
     "output_type": "execute_result"
    }
   ],
   "source": [
    "# 1) Numbers\n",
    "test(2,9)"
   ]
  },
  {
   "cell_type": "code",
   "execution_count": 4,
   "id": "4812a1a9",
   "metadata": {},
   "outputs": [
    {
     "data": {
      "text/plain": [
       "'abcDEF'"
      ]
     },
     "execution_count": 4,
     "metadata": {},
     "output_type": "execute_result"
    }
   ],
   "source": [
    "# 2) Strings\n",
    "test(\"abc\",\"DEF\")"
   ]
  },
  {
   "cell_type": "code",
   "execution_count": 5,
   "id": "f122b17a",
   "metadata": {},
   "outputs": [
    {
     "data": {
      "text/plain": [
       "[1, 2, 3, 9, 8, 7]"
      ]
     },
     "execution_count": 5,
     "metadata": {},
     "output_type": "execute_result"
    }
   ],
   "source": [
    "# 3) Lists\n",
    "test([1,2,3],[9,8,7])"
   ]
  },
  {
   "cell_type": "code",
   "execution_count": 6,
   "id": "b4d7acc5",
   "metadata": {},
   "outputs": [],
   "source": [
    "# Polymorphism using different functions\n",
    "class pen:\n",
    "    def op(self):\n",
    "        print(\"This is a Pen\")\n",
    "    \n",
    "class pencil:\n",
    "    def op(self):\n",
    "        print(\"This is a Pencil\")\n",
    "        \n",
    "        \n",
    "def mixer(pipe):\n",
    "        for i in pipe:\n",
    "            i.op()"
   ]
  },
  {
   "cell_type": "code",
   "execution_count": 7,
   "id": "de8d7bac",
   "metadata": {},
   "outputs": [],
   "source": [
    "pipe=[pen(),pencil()]"
   ]
  },
  {
   "cell_type": "code",
   "execution_count": 8,
   "id": "4eac2d99",
   "metadata": {},
   "outputs": [
    {
     "name": "stdout",
     "output_type": "stream",
     "text": [
      "This is a Pen\n",
      "This is a Pencil\n"
     ]
    }
   ],
   "source": [
    "mixer(pipe)"
   ]
  },
  {
   "cell_type": "markdown",
   "id": "579e0537",
   "metadata": {},
   "source": [
    "# Encapsulation"
   ]
  },
  {
   "cell_type": "code",
   "execution_count": 9,
   "id": "8157821e",
   "metadata": {},
   "outputs": [],
   "source": [
    "# Encapsulation is like a capsule,where the user dont have the access to class variables, but can modify them through creator defined functions"
   ]
  },
  {
   "cell_type": "code",
   "execution_count": 10,
   "id": "69c517c6",
   "metadata": {},
   "outputs": [],
   "source": [
    "class test:\n",
    "    def __init__(self,color,company,doors):\n",
    "        self.__color=color\n",
    "        self.__company=company\n",
    "        self.doors=doors\n",
    "    "
   ]
  },
  {
   "cell_type": "code",
   "execution_count": 11,
   "id": "2186f0b3",
   "metadata": {},
   "outputs": [],
   "source": [
    "harshith=test(\"Red\",\"Toyota\",4)"
   ]
  },
  {
   "cell_type": "code",
   "execution_count": 12,
   "id": "ccc6174b",
   "metadata": {},
   "outputs": [
    {
     "data": {
      "text/plain": [
       "4"
      ]
     },
     "execution_count": 12,
     "metadata": {},
     "output_type": "execute_result"
    }
   ],
   "source": [
    "harshith.doors"
   ]
  },
  {
   "cell_type": "code",
   "execution_count": 13,
   "id": "ad8b84a7",
   "metadata": {},
   "outputs": [
    {
     "ename": "AttributeError",
     "evalue": "'test' object has no attribute 'color'",
     "output_type": "error",
     "traceback": [
      "\u001b[1;31m---------------------------------------------------------------------------\u001b[0m",
      "\u001b[1;31mAttributeError\u001b[0m                            Traceback (most recent call last)",
      "\u001b[1;32m~\\AppData\\Local\\Temp\\ipykernel_14420\\106976488.py\u001b[0m in \u001b[0;36m<module>\u001b[1;34m\u001b[0m\n\u001b[0;32m      1\u001b[0m \u001b[1;31m# User cant see color and company as they were protected using __ .\u001b[0m\u001b[1;33m\u001b[0m\u001b[1;33m\u001b[0m\u001b[0m\n\u001b[1;32m----> 2\u001b[1;33m \u001b[0mharshith\u001b[0m\u001b[1;33m.\u001b[0m\u001b[0mcolor\u001b[0m\u001b[1;33m\u001b[0m\u001b[1;33m\u001b[0m\u001b[0m\n\u001b[0m",
      "\u001b[1;31mAttributeError\u001b[0m: 'test' object has no attribute 'color'"
     ]
    }
   ],
   "source": [
    "# User cant see color and company as they were protected using __ .\n",
    "harshith.color"
   ]
  },
  {
   "cell_type": "code",
   "execution_count": 14,
   "id": "a1fb9e19",
   "metadata": {},
   "outputs": [
    {
     "ename": "AttributeError",
     "evalue": "'test' object has no attribute 'company'",
     "output_type": "error",
     "traceback": [
      "\u001b[1;31m---------------------------------------------------------------------------\u001b[0m",
      "\u001b[1;31mAttributeError\u001b[0m                            Traceback (most recent call last)",
      "\u001b[1;32m~\\AppData\\Local\\Temp\\ipykernel_14420\\4019570554.py\u001b[0m in \u001b[0;36m<module>\u001b[1;34m\u001b[0m\n\u001b[1;32m----> 1\u001b[1;33m \u001b[0mharshith\u001b[0m\u001b[1;33m.\u001b[0m\u001b[0mcompany\u001b[0m\u001b[1;33m\u001b[0m\u001b[1;33m\u001b[0m\u001b[0m\n\u001b[0m",
      "\u001b[1;31mAttributeError\u001b[0m: 'test' object has no attribute 'company'"
     ]
    }
   ],
   "source": [
    "harshith.company"
   ]
  },
  {
   "cell_type": "code",
   "execution_count": 15,
   "id": "c0c4b031",
   "metadata": {},
   "outputs": [
    {
     "data": {
      "text/plain": [
       "'Toyota'"
      ]
     },
     "execution_count": 15,
     "metadata": {},
     "output_type": "execute_result"
    }
   ],
   "source": [
    "# But the owner can view it by using _ (class name)\n",
    "harshith._test__company"
   ]
  },
  {
   "cell_type": "code",
   "execution_count": 16,
   "id": "c3ed45db",
   "metadata": {},
   "outputs": [
    {
     "data": {
      "text/plain": [
       "'Red'"
      ]
     },
     "execution_count": 16,
     "metadata": {},
     "output_type": "execute_result"
    }
   ],
   "source": [
    "harshith._test__color"
   ]
  },
  {
   "cell_type": "code",
   "execution_count": 17,
   "id": "7155f852",
   "metadata": {},
   "outputs": [],
   "source": [
    "# Functions to change or access values\n",
    "class test:\n",
    "    def __init__(self,color,company,doors):\n",
    "        self.__color=color\n",
    "        self.__company=company\n",
    "        self.doors=doors\n",
    "    def set_color(self,color):\n",
    "        self.__color=color\n",
    "    def show_color(self):\n",
    "        return self.__color"
   ]
  },
  {
   "cell_type": "code",
   "execution_count": 18,
   "id": "387e6caa",
   "metadata": {},
   "outputs": [],
   "source": [
    "harshith=test(\"red\",\"toyota\",4)"
   ]
  },
  {
   "cell_type": "code",
   "execution_count": 19,
   "id": "99314aac",
   "metadata": {},
   "outputs": [
    {
     "data": {
      "text/plain": [
       "'red'"
      ]
     },
     "execution_count": 19,
     "metadata": {},
     "output_type": "execute_result"
    }
   ],
   "source": [
    "harshith.show_color()"
   ]
  },
  {
   "cell_type": "code",
   "execution_count": 20,
   "id": "fad3885c",
   "metadata": {},
   "outputs": [],
   "source": [
    "harshith.set_color(\"blue\")"
   ]
  },
  {
   "cell_type": "code",
   "execution_count": 21,
   "id": "ee9c04af",
   "metadata": {},
   "outputs": [
    {
     "data": {
      "text/plain": [
       "'blue'"
      ]
     },
     "execution_count": 21,
     "metadata": {},
     "output_type": "execute_result"
    }
   ],
   "source": [
    "harshith.show_color()"
   ]
  },
  {
   "cell_type": "markdown",
   "id": "137a5cf7",
   "metadata": {},
   "source": [
    "# Inheritence"
   ]
  },
  {
   "cell_type": "code",
   "execution_count": 22,
   "id": "c4be35ae",
   "metadata": {},
   "outputs": [],
   "source": [
    "# It is the process of using one class features in another one\n",
    "class class1:\n",
    "    def testc1(self):\n",
    "        print(\"This is class 1\")\n",
    "class class2(class1):\n",
    "    pass"
   ]
  },
  {
   "cell_type": "code",
   "execution_count": 23,
   "id": "bc704936",
   "metadata": {},
   "outputs": [],
   "source": [
    "ob=class2()"
   ]
  },
  {
   "cell_type": "code",
   "execution_count": 24,
   "id": "aec20702",
   "metadata": {},
   "outputs": [
    {
     "name": "stdout",
     "output_type": "stream",
     "text": [
      "This is class 1\n"
     ]
    }
   ],
   "source": [
    "ob.testc1()"
   ]
  },
  {
   "cell_type": "code",
   "execution_count": 25,
   "id": "db34f354",
   "metadata": {},
   "outputs": [],
   "source": [
    "# There are two types of Inheritances \n",
    "# 1) Multilevel\n",
    "# 2) Multiple"
   ]
  },
  {
   "cell_type": "code",
   "execution_count": 26,
   "id": "1e818f9f",
   "metadata": {},
   "outputs": [],
   "source": [
    "# Multi Level - where class 1 is accessed by class 2, class 2 is accessed by class 3 and so on...\n",
    "class class1:\n",
    "    def class1test(self):\n",
    "        print(\"This is my class 1\")\n",
    "class class2(class1):\n",
    "    def class2test(self):\n",
    "        print(\"This is my class 2\")\n",
    "class class3(class2):\n",
    "    pass"
   ]
  },
  {
   "cell_type": "code",
   "execution_count": 27,
   "id": "5ceed283",
   "metadata": {},
   "outputs": [],
   "source": [
    "ob=class3()"
   ]
  },
  {
   "cell_type": "code",
   "execution_count": 28,
   "id": "cd963089",
   "metadata": {},
   "outputs": [
    {
     "name": "stdout",
     "output_type": "stream",
     "text": [
      "This is my class 1\n"
     ]
    }
   ],
   "source": [
    "ob.class1test()"
   ]
  },
  {
   "cell_type": "code",
   "execution_count": 29,
   "id": "73027964",
   "metadata": {},
   "outputs": [
    {
     "name": "stdout",
     "output_type": "stream",
     "text": [
      "This is my class 2\n"
     ]
    }
   ],
   "source": [
    "ob.class2test()"
   ]
  },
  {
   "cell_type": "code",
   "execution_count": 30,
   "id": "1f8fc8ea",
   "metadata": {},
   "outputs": [],
   "source": [
    "# Multiple Inheritence - where one class inherits from several other classes\n",
    "class class1:\n",
    "    def class1test(self):\n",
    "        print(\"This is my class 1\")\n",
    "class class2():\n",
    "    def class2test(self):\n",
    "        print(\"This is my class 2\")\n",
    "class class3(class1,class2):\n",
    "    pass"
   ]
  },
  {
   "cell_type": "code",
   "execution_count": 31,
   "id": "01c18956",
   "metadata": {},
   "outputs": [],
   "source": [
    "ob=class3()"
   ]
  },
  {
   "cell_type": "code",
   "execution_count": 32,
   "id": "15b0b9dc",
   "metadata": {},
   "outputs": [
    {
     "name": "stdout",
     "output_type": "stream",
     "text": [
      "This is my class 2\n"
     ]
    }
   ],
   "source": [
    "ob.class2test()"
   ]
  },
  {
   "cell_type": "code",
   "execution_count": 33,
   "id": "5b2e2294",
   "metadata": {},
   "outputs": [
    {
     "name": "stdout",
     "output_type": "stream",
     "text": [
      "This is my class 1\n"
     ]
    }
   ],
   "source": [
    "ob.class1test()"
   ]
  }
 ],
 "metadata": {
  "kernelspec": {
   "display_name": "Python 3 (ipykernel)",
   "language": "python",
   "name": "python3"
  },
  "language_info": {
   "codemirror_mode": {
    "name": "ipython",
    "version": 3
   },
   "file_extension": ".py",
   "mimetype": "text/x-python",
   "name": "python",
   "nbconvert_exporter": "python",
   "pygments_lexer": "ipython3",
   "version": "3.9.13"
  }
 },
 "nbformat": 4,
 "nbformat_minor": 5
}

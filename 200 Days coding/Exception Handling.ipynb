{
 "cells": [
  {
   "cell_type": "markdown",
   "id": "38469c52",
   "metadata": {},
   "source": [
    "# https://www.linkedin.com/in/pothuri-harshith-varma-4508991b2/                         follow me in linkedin for more such notes"
   ]
  },
  {
   "cell_type": "markdown",
   "id": "48ce69cd",
   "metadata": {},
   "source": [
    "# Q1. What is an Exception in python? Write the difference between Exceptions and syntax errors"
   ]
  },
  {
   "cell_type": "code",
   "execution_count": 1,
   "id": "a3d0b9db",
   "metadata": {},
   "outputs": [],
   "source": [
    "# An Exception in Python is an event that occurs during the execution of a program that disrupts the normal flow of the \n",
    "# program's instructions. The difference between Exceptions and Syntax errors is that Syntax errors occur when the code is \n",
    "# written in incorrect syntax, while Exceptions occur when the code is written correctly but an error occurs during execution."
   ]
  },
  {
   "cell_type": "markdown",
   "id": "b5100a2b",
   "metadata": {},
   "source": [
    "# Q2. what happens when an exception is not handled explain with an example"
   ]
  },
  {
   "cell_type": "code",
   "execution_count": 2,
   "id": "eea37b4e",
   "metadata": {},
   "outputs": [
    {
     "ename": "ZeroDivisionError",
     "evalue": "division by zero",
     "output_type": "error",
     "traceback": [
      "\u001b[1;31m---------------------------------------------------------------------------\u001b[0m",
      "\u001b[1;31mZeroDivisionError\u001b[0m                         Traceback (most recent call last)",
      "\u001b[1;32m~\\AppData\\Local\\Temp\\ipykernel_36700\\1286429225.py\u001b[0m in \u001b[0;36m<module>\u001b[1;34m\u001b[0m\n\u001b[0;32m      3\u001b[0m \u001b[1;31m# eg:\u001b[0m\u001b[1;33m\u001b[0m\u001b[1;33m\u001b[0m\u001b[0m\n\u001b[0;32m      4\u001b[0m \u001b[1;33m\u001b[0m\u001b[0m\n\u001b[1;32m----> 5\u001b[1;33m \u001b[0mprint\u001b[0m\u001b[1;33m(\u001b[0m\u001b[1;36m1\u001b[0m\u001b[1;33m/\u001b[0m\u001b[1;36m0\u001b[0m\u001b[1;33m)\u001b[0m\u001b[1;33m\u001b[0m\u001b[1;33m\u001b[0m\u001b[0m\n\u001b[0m",
      "\u001b[1;31mZeroDivisionError\u001b[0m: division by zero"
     ]
    }
   ],
   "source": [
    "# When an exception is not handled, the program will terminate and an error message will be displayed indicating what went wrong.\n",
    "\n",
    "# eg:\n",
    "\n",
    "print(1/0)"
   ]
  },
  {
   "cell_type": "markdown",
   "id": "ca1f639d",
   "metadata": {},
   "source": [
    "# Q3. which Python statements are used to try and catch exceptions?"
   ]
  },
  {
   "cell_type": "code",
   "execution_count": 5,
   "id": "4484f57d",
   "metadata": {},
   "outputs": [
    {
     "name": "stdout",
     "output_type": "stream",
     "text": [
      "This is exception\n",
      "division by zero\n"
     ]
    }
   ],
   "source": [
    "# Try and Except are used to handle exceptions\n",
    "\n",
    "try:\n",
    "    print(1/0)\n",
    "except Exception as e:\n",
    "    print(\"This is exception\")\n",
    "    print(e)"
   ]
  },
  {
   "cell_type": "markdown",
   "id": "1d20177a",
   "metadata": {},
   "source": [
    "# Q4. Explain with an example\n",
    " ## try\n",
    " ## except\n",
    " ## finally\n",
    " ## else"
   ]
  },
  {
   "cell_type": "code",
   "execution_count": 6,
   "id": "a4f754ce",
   "metadata": {},
   "outputs": [],
   "source": [
    "# Try - Used to check if given code is error or not\n",
    "# Except - Starts it's work if it found an error in Try\n",
    "# Else - Start's if no error found in Try\n",
    "# finally - Even if try found's error or not, It will always do it's work"
   ]
  },
  {
   "cell_type": "code",
   "execution_count": 13,
   "id": "011efa75",
   "metadata": {},
   "outputs": [
    {
     "name": "stdout",
     "output_type": "stream",
     "text": [
      "as i opened file which is not available to read, I got  [Errno 2] No such file or directory: 'ghshsxchs.txt'\n",
      "Finally works in all situations\n"
     ]
    }
   ],
   "source": [
    "# Let's keep error in try\n",
    "\n",
    "try:\n",
    "    f=open(\"ghshsxchs.txt\",\"r\")\n",
    "except Exception as e:\n",
    "    print(\"as i opened file which is not available to read, I got \",e)\n",
    "else:\n",
    "    print('No error')\n",
    "finally:\n",
    "    print(\"Finally works in all situations\")"
   ]
  },
  {
   "cell_type": "code",
   "execution_count": 14,
   "id": "a84970ce",
   "metadata": {},
   "outputs": [
    {
     "name": "stdout",
     "output_type": "stream",
     "text": [
      "No error because i had opened a new file to write, which is absolutely fine\n",
      "Finally works in all situations\n"
     ]
    }
   ],
   "source": [
    "# Let's keep non error in try\n",
    "\n",
    "try:\n",
    "    f=open(\"ghshsnnhs.txt\",\"w\")\n",
    "except Exception as e:\n",
    "    print(e)\n",
    "else:\n",
    "    print('No error because i had opened a new file to write, which is absolutely fine')\n",
    "finally:\n",
    "    print(\"Finally works in all situations\")"
   ]
  },
  {
   "cell_type": "markdown",
   "id": "99c49b5d",
   "metadata": {},
   "source": [
    "# Q5. what are custom exceptions in Python and why do we need it explain with an example"
   ]
  },
  {
   "cell_type": "code",
   "execution_count": 15,
   "id": "65683a18",
   "metadata": {},
   "outputs": [],
   "source": [
    "# Custom exceptions in Python are user-defined exceptions that allow you to raise and catch specific errors in your code."
   ]
  },
  {
   "cell_type": "code",
   "execution_count": 17,
   "id": "7b1a47c9",
   "metadata": {},
   "outputs": [
    {
     "name": "stdout",
     "output_type": "stream",
     "text": [
      "age:-123\n",
      "age is  -123\n"
     ]
    }
   ],
   "source": [
    "# for eg\n",
    "\n",
    "age=int(input(\"age:\"))\n",
    "print(\"age is \",age)"
   ]
  },
  {
   "cell_type": "code",
   "execution_count": 18,
   "id": "292e7e7d",
   "metadata": {},
   "outputs": [],
   "source": [
    "# Although -123 is not at all acceptable as age, it didnt shows any error. for this king of situations, we will use custom expns"
   ]
  },
  {
   "cell_type": "markdown",
   "id": "99af4839",
   "metadata": {},
   "source": [
    "# Q6. create a custom exception class and use this class to handle an exception"
   ]
  },
  {
   "cell_type": "code",
   "execution_count": 19,
   "id": "4311f454",
   "metadata": {},
   "outputs": [],
   "source": [
    "class test(Exception):\n",
    "    def __init__(self,msg):\n",
    "        self.msg=msg\n",
    "\n",
    "def exp(age):\n",
    "    if age<1:\n",
    "        raise test(\"Age is too low\")\n",
    "    elif age>150:\n",
    "        raise test(\"age is too high\")\n",
    "    else:\n",
    "        print(\"valid\")"
   ]
  },
  {
   "cell_type": "code",
   "execution_count": 22,
   "id": "a9be6403",
   "metadata": {},
   "outputs": [
    {
     "name": "stdout",
     "output_type": "stream",
     "text": [
      "Age:22\n",
      "valid\n"
     ]
    }
   ],
   "source": [
    "try: \n",
    "    age=int(input(\"Age:\"))\n",
    "    exp(age)\n",
    "except test as e:\n",
    "    print(e)"
   ]
  },
  {
   "cell_type": "code",
   "execution_count": null,
   "id": "b443c516",
   "metadata": {},
   "outputs": [],
   "source": []
  }
 ],
 "metadata": {
  "kernelspec": {
   "display_name": "Python 3 (ipykernel)",
   "language": "python",
   "name": "python3"
  },
  "language_info": {
   "codemirror_mode": {
    "name": "ipython",
    "version": 3
   },
   "file_extension": ".py",
   "mimetype": "text/x-python",
   "name": "python",
   "nbconvert_exporter": "python",
   "pygments_lexer": "ipython3",
   "version": "3.9.13"
  }
 },
 "nbformat": 4,
 "nbformat_minor": 5
}

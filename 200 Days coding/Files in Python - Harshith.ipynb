{
 "cells": [
  {
   "cell_type": "markdown",
   "id": "c8a6d4db",
   "metadata": {},
   "source": [
    "https://www.linkedin.com/in/pothuri-harshith-varma-4508991b2/  follow me here for more such notes."
   ]
  },
  {
   "cell_type": "markdown",
   "id": "e51bf371",
   "metadata": {},
   "source": [
    "# Files in Python"
   ]
  },
  {
   "cell_type": "code",
   "execution_count": 1,
   "id": "9954fb5d",
   "metadata": {},
   "outputs": [],
   "source": [
    "# create and open a file by open method\n",
    "\n",
    "data=open(\"text.txt\",\"w\")"
   ]
  },
  {
   "cell_type": "code",
   "execution_count": 2,
   "id": "f62806ae",
   "metadata": {},
   "outputs": [
    {
     "data": {
      "text/plain": [
       "29"
      ]
     },
     "execution_count": 2,
     "metadata": {},
     "output_type": "execute_result"
    }
   ],
   "source": [
    "# Write data in that file\n",
    "\n",
    "data.write(\"This is my first Line of File\")"
   ]
  },
  {
   "cell_type": "code",
   "execution_count": 3,
   "id": "5b066a69",
   "metadata": {},
   "outputs": [],
   "source": [
    "# Now try to read it"
   ]
  },
  {
   "cell_type": "code",
   "execution_count": 4,
   "id": "e5f57254",
   "metadata": {},
   "outputs": [
    {
     "ename": "UnsupportedOperation",
     "evalue": "not readable",
     "output_type": "error",
     "traceback": [
      "\u001b[1;31m---------------------------------------------------------------------------\u001b[0m",
      "\u001b[1;31mUnsupportedOperation\u001b[0m                      Traceback (most recent call last)",
      "\u001b[1;32m~\\AppData\\Local\\Temp\\ipykernel_33380\\1846824914.py\u001b[0m in \u001b[0;36m<module>\u001b[1;34m\u001b[0m\n\u001b[1;32m----> 1\u001b[1;33m \u001b[0mdata\u001b[0m\u001b[1;33m.\u001b[0m\u001b[0mread\u001b[0m\u001b[1;33m(\u001b[0m\u001b[1;33m)\u001b[0m\u001b[1;33m\u001b[0m\u001b[1;33m\u001b[0m\u001b[0m\n\u001b[0m",
      "\u001b[1;31mUnsupportedOperation\u001b[0m: not readable"
     ]
    }
   ],
   "source": [
    "data.read()"
   ]
  },
  {
   "cell_type": "code",
   "execution_count": 5,
   "id": "d1d77dd7",
   "metadata": {},
   "outputs": [],
   "source": [
    "# it doesnt works because while opening file we gave access to only write \"W\" but not to read it.\n",
    "# so now close the write file and lets open it to read\n",
    "data.close()"
   ]
  },
  {
   "cell_type": "code",
   "execution_count": 6,
   "id": "383a2d69",
   "metadata": {},
   "outputs": [],
   "source": [
    "data1=open(\"text.txt\",\"r\")"
   ]
  },
  {
   "cell_type": "code",
   "execution_count": 7,
   "id": "5264ca96",
   "metadata": {},
   "outputs": [
    {
     "data": {
      "text/plain": [
       "'This is my first Line of File'"
      ]
     },
     "execution_count": 7,
     "metadata": {},
     "output_type": "execute_result"
    }
   ],
   "source": [
    "# Now let's read it.\n",
    "data1.read()"
   ]
  },
  {
   "cell_type": "code",
   "execution_count": 8,
   "id": "e5ce2f57",
   "metadata": {},
   "outputs": [
    {
     "data": {
      "text/plain": [
       "''"
      ]
     },
     "execution_count": 8,
     "metadata": {},
     "output_type": "execute_result"
    }
   ],
   "source": [
    "# Lets try to read it once more\n",
    "data1.read()"
   ]
  },
  {
   "cell_type": "code",
   "execution_count": 9,
   "id": "cb56c57d",
   "metadata": {},
   "outputs": [
    {
     "data": {
      "text/plain": [
       "0"
      ]
     },
     "execution_count": 9,
     "metadata": {},
     "output_type": "execute_result"
    }
   ],
   "source": [
    "# It's giving none as while reading for first time , there will be a cursor which has moved to the end of text\n",
    "# Now lets move the cursor back to first place by using SEEK method\n",
    "data1.seek(0)"
   ]
  },
  {
   "cell_type": "code",
   "execution_count": 10,
   "id": "07d7e8c4",
   "metadata": {},
   "outputs": [
    {
     "data": {
      "text/plain": [
       "'This is my first Line of File'"
      ]
     },
     "execution_count": 10,
     "metadata": {},
     "output_type": "execute_result"
    }
   ],
   "source": [
    "# Let's now try the read\n",
    "data1.read()"
   ]
  },
  {
   "cell_type": "code",
   "execution_count": 11,
   "id": "67e74cb5",
   "metadata": {},
   "outputs": [
    {
     "data": {
      "text/plain": [
       "5"
      ]
     },
     "execution_count": 11,
     "metadata": {},
     "output_type": "execute_result"
    }
   ],
   "source": [
    "data1.seek(5)"
   ]
  },
  {
   "cell_type": "code",
   "execution_count": 12,
   "id": "b96f7ad0",
   "metadata": {},
   "outputs": [
    {
     "data": {
      "text/plain": [
       "'is my first Line of File'"
      ]
     },
     "execution_count": 12,
     "metadata": {},
     "output_type": "execute_result"
    }
   ],
   "source": [
    "data1.read()"
   ]
  },
  {
   "cell_type": "code",
   "execution_count": 13,
   "id": "79c02089",
   "metadata": {},
   "outputs": [],
   "source": [
    "data1.close()"
   ]
  },
  {
   "cell_type": "code",
   "execution_count": 14,
   "id": "e004f6fd",
   "metadata": {},
   "outputs": [],
   "source": [
    "# once again open the file and write on it as continuation using \"a\" as file type"
   ]
  },
  {
   "cell_type": "code",
   "execution_count": 15,
   "id": "572841d9",
   "metadata": {},
   "outputs": [],
   "source": [
    "data2=open(\"text.txt\",\"a\")"
   ]
  },
  {
   "cell_type": "code",
   "execution_count": 16,
   "id": "92a18649",
   "metadata": {},
   "outputs": [
    {
     "data": {
      "text/plain": [
       "22"
      ]
     },
     "execution_count": 16,
     "metadata": {},
     "output_type": "execute_result"
    }
   ],
   "source": [
    "data2.write(\" This is my second one\")"
   ]
  },
  {
   "cell_type": "code",
   "execution_count": 17,
   "id": "5292cf67",
   "metadata": {},
   "outputs": [],
   "source": [
    "data2.close()"
   ]
  },
  {
   "cell_type": "code",
   "execution_count": 18,
   "id": "3db288ee",
   "metadata": {},
   "outputs": [],
   "source": [
    "data3=open(\"text.txt\",\"r\")"
   ]
  },
  {
   "cell_type": "code",
   "execution_count": 19,
   "id": "d04a5a1d",
   "metadata": {},
   "outputs": [
    {
     "data": {
      "text/plain": [
       "'This is my first Line of File This is my second one'"
      ]
     },
     "execution_count": 19,
     "metadata": {},
     "output_type": "execute_result"
    }
   ],
   "source": [
    "data3.read()"
   ]
  },
  {
   "cell_type": "code",
   "execution_count": 20,
   "id": "2f3da557",
   "metadata": {},
   "outputs": [
    {
     "data": {
      "text/plain": [
       "'text1.txt'"
      ]
     },
     "execution_count": 20,
     "metadata": {},
     "output_type": "execute_result"
    }
   ],
   "source": [
    "# copy the text in this file to another file\n",
    "import shutil\n",
    "shutil.copy(\"text.txt\",\"text1.txt\")"
   ]
  },
  {
   "cell_type": "code",
   "execution_count": 21,
   "id": "80b5eab5",
   "metadata": {},
   "outputs": [
    {
     "name": "stdout",
     "output_type": "stream",
     "text": [
      "This is my first Line of File This is my second one\n"
     ]
    }
   ],
   "source": [
    "# Open file in another way\n",
    "with open(\"text1.txt\",\"r\") as f:\n",
    "    print(f.read())"
   ]
  },
  {
   "cell_type": "code",
   "execution_count": 22,
   "id": "6285ab2f",
   "metadata": {},
   "outputs": [],
   "source": [
    "# delete a file\n",
    "import os\n",
    "os.remove(\"text1.txt\")"
   ]
  },
  {
   "cell_type": "code",
   "execution_count": 23,
   "id": "48595ea8",
   "metadata": {},
   "outputs": [
    {
     "ename": "FileNotFoundError",
     "evalue": "[Errno 2] No such file or directory: 'text1.txt'",
     "output_type": "error",
     "traceback": [
      "\u001b[1;31m---------------------------------------------------------------------------\u001b[0m",
      "\u001b[1;31mFileNotFoundError\u001b[0m                         Traceback (most recent call last)",
      "\u001b[1;32m~\\AppData\\Local\\Temp\\ipykernel_33380\\1133432019.py\u001b[0m in \u001b[0;36m<module>\u001b[1;34m\u001b[0m\n\u001b[1;32m----> 1\u001b[1;33m \u001b[1;32mwith\u001b[0m \u001b[0mopen\u001b[0m\u001b[1;33m(\u001b[0m\u001b[1;34m\"text1.txt\"\u001b[0m\u001b[1;33m,\u001b[0m\u001b[1;34m\"r\"\u001b[0m\u001b[1;33m)\u001b[0m \u001b[1;32mas\u001b[0m \u001b[0mf\u001b[0m\u001b[1;33m:\u001b[0m\u001b[1;33m\u001b[0m\u001b[1;33m\u001b[0m\u001b[0m\n\u001b[0m\u001b[0;32m      2\u001b[0m     \u001b[0mprint\u001b[0m\u001b[1;33m(\u001b[0m\u001b[0mf\u001b[0m\u001b[1;33m.\u001b[0m\u001b[0mread\u001b[0m\u001b[1;33m(\u001b[0m\u001b[1;33m)\u001b[0m\u001b[1;33m)\u001b[0m\u001b[1;33m\u001b[0m\u001b[1;33m\u001b[0m\u001b[0m\n",
      "\u001b[1;31mFileNotFoundError\u001b[0m: [Errno 2] No such file or directory: 'text1.txt'"
     ]
    }
   ],
   "source": [
    "with open(\"text1.txt\",\"r\") as f:\n",
    "    print(f.read())"
   ]
  }
 ],
 "metadata": {
  "kernelspec": {
   "display_name": "Python 3 (ipykernel)",
   "language": "python",
   "name": "python3"
  },
  "language_info": {
   "codemirror_mode": {
    "name": "ipython",
    "version": 3
   },
   "file_extension": ".py",
   "mimetype": "text/x-python",
   "name": "python",
   "nbconvert_exporter": "python",
   "pygments_lexer": "ipython3",
   "version": "3.9.13"
  }
 },
 "nbformat": 4,
 "nbformat_minor": 5
}

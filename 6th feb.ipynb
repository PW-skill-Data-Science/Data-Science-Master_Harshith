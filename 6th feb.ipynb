{
 "cells": [
  {
   "cell_type": "markdown",
   "id": "88a17e11",
   "metadata": {},
   "source": [
    "# Q1. Create a function which will take a list as an argument and return the product of all the numbers after creating a flat list. Use the below-given list as an argument for your function. \n",
    "list1 = [1,2,3,4, [44,55,66, True], False, (34,56,78,89,34), {1,2,3,3,2,1}, {1:34, \"key2\": [55, 67, 78, 89], 4: (45,\n",
    "22, 61, 34)}, [56, 'data science'], 'Machine Learning']\n",
    "# Note: you must extract numeric keys and values of the dictionary also."
   ]
  },
  {
   "cell_type": "code",
   "execution_count": 1,
   "id": "0dbebb8f",
   "metadata": {},
   "outputs": [
    {
     "data": {
      "text/plain": [
       "4134711838987085478833841242112000"
      ]
     },
     "execution_count": 1,
     "metadata": {},
     "output_type": "execute_result"
    }
   ],
   "source": [
    "ans=[]\n",
    "req=[int,float,list,tuple,set,dict]\n",
    "def ans1(doc):\n",
    "    ans=[]\n",
    "    for i in range (0,len(doc)):\n",
    "        if type(doc[i]) in req:\n",
    "            if type(doc[i])==int or type(doc[i])==float:\n",
    "                ans.append(doc[i])\n",
    "            elif type(doc[i]) in [list,tuple]:\n",
    "                for j in range(0,len(doc[i])):\n",
    "                    if type(doc[i][j]) in req:\n",
    "                        if type(doc[i][j])==int or type(doc[i][j])==float:\n",
    "                            ans.append(doc[i][j])\n",
    "            elif type(doc[i]) in [set]:\n",
    "                doc[i]=list(doc[i])\n",
    "                for j in range(0,len(doc[i])):\n",
    "                    if type(doc[i][j]) in req:\n",
    "                        if type(doc[i][j])==int or type(doc[i][j])==float:\n",
    "                            ans.append(doc[i][j])\n",
    "            elif type(doc[i])==dict:\n",
    "                for a,b in doc[i].items():\n",
    "                    if type(a) in [int,float]:\n",
    "                        ans.append(a)\n",
    "                    if type(b) in [int,float]:\n",
    "                        ans.append(b)\n",
    "                    if type(a) in [list,tuple]:\n",
    "                        for i in a:\n",
    "                            if type(i) in [int,float]:\n",
    "                                ans.append(i)\n",
    "                    if type(b) in [list,tuple]:\n",
    "                        for i in b:\n",
    "                            if type(i) in [int,float]:\n",
    "                                ans.append(i)\n",
    "                    \n",
    "                    \n",
    "                    \n",
    "    return ans\n",
    "\n",
    "\n",
    "from functools import reduce\n",
    "ans=[]\n",
    "req=[int,float,list,tuple,set,dict]\n",
    "list1 = [1,2,3,4, [44,55,66, True], False, (34,56,78,89,34), {1,2,3,3,2,1}, {1:34, \"key2\": [55, 67, 78, 89], 4: (45, 22, 61, 34)}, [56, 'data science'], 'Machine Learning']\n",
    "j=ans1(list1)\n",
    "reduce(lambda x,y:x*y,j)"
   ]
  },
  {
   "cell_type": "markdown",
   "id": "328d870a",
   "metadata": {},
   "source": [
    "# Check J value which consists of all the numerics of given list here"
   ]
  },
  {
   "cell_type": "code",
   "execution_count": 2,
   "id": "66b4b5a9",
   "metadata": {},
   "outputs": [
    {
     "name": "stdout",
     "output_type": "stream",
     "text": [
      "1 2 3 4 44 55 66 34 56 78 89 34 1 2 3 1 34 55 67 78 89 4 45 22 61 34 56 "
     ]
    }
   ],
   "source": [
    "for i in j:\n",
    "    print(i,end=\" \")"
   ]
  },
  {
   "cell_type": "markdown",
   "id": "7d5778c1",
   "metadata": {},
   "source": [
    "# Q2. Write a python program for encrypting a message sent to you by your friend. The logic of encryption should be such that, for a the output should be z. For b, the output should be y. For c, the output should be x respectively. Also, the whitespace should be replaced with a dollar sign. Keep the punctuation marks unchanged.\n",
    "Input Sentence: I want to become a Data Scientist.\n",
    "Encrypt the above input sentence using the program you just created.\n",
    "Note: Convert the given input sentence into lowercase before encrypting. The final output should be\n",
    "lowercase."
   ]
  },
  {
   "cell_type": "code",
   "execution_count": 3,
   "id": "dd6e0ea8",
   "metadata": {},
   "outputs": [
    {
     "data": {
      "text/plain": [
       "'zyxwvutsrqponmlkjihgfedcba'"
      ]
     },
     "execution_count": 3,
     "metadata": {},
     "output_type": "execute_result"
    }
   ],
   "source": [
    "name='abcdefghijklmnopqrstuvwxyz'\n",
    "reverse=\"\".join(reversed(name))\n",
    "reverse"
   ]
  },
  {
   "cell_type": "code",
   "execution_count": 4,
   "id": "54715352",
   "metadata": {},
   "outputs": [
    {
     "data": {
      "text/plain": [
       "{'a': 'z',\n",
       " 'b': 'y',\n",
       " 'c': 'x',\n",
       " 'd': 'w',\n",
       " 'e': 'v',\n",
       " 'f': 'u',\n",
       " 'g': 't',\n",
       " 'h': 's',\n",
       " 'i': 'r',\n",
       " 'j': 'q',\n",
       " 'k': 'p',\n",
       " 'l': 'o',\n",
       " 'm': 'n',\n",
       " 'n': 'm',\n",
       " 'o': 'l',\n",
       " 'p': 'k',\n",
       " 'q': 'j',\n",
       " 'r': 'i',\n",
       " 's': 'h',\n",
       " 't': 'g',\n",
       " 'u': 'f',\n",
       " 'v': 'e',\n",
       " 'w': 'd',\n",
       " 'x': 'c',\n",
       " 'y': 'b',\n",
       " 'z': 'a'}"
      ]
     },
     "execution_count": 4,
     "metadata": {},
     "output_type": "execute_result"
    }
   ],
   "source": [
    "d={}\n",
    "for i in range(0,26):\n",
    "    d[name[i]]=str(reverse[i])\n",
    "d"
   ]
  },
  {
   "cell_type": "code",
   "execution_count": 5,
   "id": "9d6f5285",
   "metadata": {},
   "outputs": [
    {
     "name": "stdout",
     "output_type": "stream",
     "text": [
      "r dzmg gl yvxlnv z wzgz hxrvmgrhg"
     ]
    }
   ],
   "source": [
    "ip=\"I want to become a Data Scientist\"\n",
    "for i in ip.lower():\n",
    "    if i!=\" \":\n",
    "        print(d[i],end=\"\")\n",
    "    elif i==\" \":\n",
    "        print(end=\" \")"
   ]
  },
  {
   "cell_type": "code",
   "execution_count": null,
   "id": "de31998d",
   "metadata": {},
   "outputs": [],
   "source": []
  }
 ],
 "metadata": {
  "kernelspec": {
   "display_name": "Python 3 (ipykernel)",
   "language": "python",
   "name": "python3"
  },
  "language_info": {
   "codemirror_mode": {
    "name": "ipython",
    "version": 3
   },
   "file_extension": ".py",
   "mimetype": "text/x-python",
   "name": "python",
   "nbconvert_exporter": "python",
   "pygments_lexer": "ipython3",
   "version": "3.9.13"
  }
 },
 "nbformat": 4,
 "nbformat_minor": 5
}

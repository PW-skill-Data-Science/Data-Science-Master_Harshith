{
 "cells": [
  {
   "cell_type": "markdown",
   "id": "481b141b",
   "metadata": {},
   "source": [
    "# Q1. You are writing code for a company. The requirement of the company is that you create a python function that will check whether the password entered by the user is correct or not. The function should take the password as input and return the string “Valid Password” if the entered password follows the below-given password guidelines else it should return “Invalid Password”.\n",
    "Note: 1. The Password should contain at least two uppercase letters and at least two lowercase letters.\n",
    "2. The Password should contain at least a number and three special characters.\n",
    "3. The length of the password should be 10 characters long."
   ]
  },
  {
   "cell_type": "code",
   "execution_count": 56,
   "id": "50e792a2",
   "metadata": {},
   "outputs": [],
   "source": [
    "def check(string):\n",
    "    if len(string)<10:\n",
    "        return \"Invalid password\"\n",
    "    uc=[]\n",
    "    lc=[]\n",
    "    num=[]\n",
    "    oth=[]\n",
    "    for i in string:\n",
    "        if i.isupper():\n",
    "            uc.append(i)\n",
    "        elif i.islower():\n",
    "            lc.append(i)\n",
    "        elif i.isdigit():\n",
    "            num.append(i)\n",
    "        else:\n",
    "            oth.append(i)\n",
    "    if len(uc)>=2 and len(lc)>=2 and len(num)>=3 and len(oth)>=3:\n",
    "        return \"Password is Valid\"\n",
    "    else:\n",
    "        return \"Invalid Password\""
   ]
  },
  {
   "cell_type": "code",
   "execution_count": 57,
   "id": "17c9f764",
   "metadata": {},
   "outputs": [
    {
     "data": {
      "text/plain": [
       "'Password is Valid'"
      ]
     },
     "execution_count": 57,
     "metadata": {},
     "output_type": "execute_result"
    }
   ],
   "source": [
    "check(\"asdfgVBN124#%^&*\")"
   ]
  },
  {
   "cell_type": "markdown",
   "id": "e25ae56c",
   "metadata": {},
   "source": [
    "# Q2. Solve the below-given questions using at least one of the following:\n",
    "1. Lambda functioJ\n",
    "2. Filter functioJ\n",
    "3. Zap functioJ\n",
    "4. List ComprehensioI\n",
    "B Check if the string starts with a particular letterY\n",
    "B Check if the string is numericY\n",
    "B Sort a list of tuples having fruit names and their quantity. [(\"mango\",99),(\"orange\",80), (\"grapes\", 1000)-\n",
    "B Find the squares of numbers from 1 to 10Y\n",
    "B Find the cube root of numbers from 1 to 10Y\n",
    "B Check if a given number is evenY\n",
    "B Filter odd numbers from the given list.\n",
    "[1,2,3,4,5,6,7,8,9,10-\n",
    "B Sort a list of integers into positive and negative integers lists.\n",
    "[1,2,3,4,5,6,-1,-2,-3,-4,-5,0]"
   ]
  },
  {
   "cell_type": "markdown",
   "id": "1d42e179",
   "metadata": {},
   "source": [
    "# Check if the string starts with a particular letter"
   ]
  },
  {
   "cell_type": "code",
   "execution_count": 92,
   "id": "41b19a06",
   "metadata": {},
   "outputs": [],
   "source": [
    "# Checking if a letter starts with vowel\n",
    "vowels=\"aeiouAEIOU\"\n",
    "string1=\"Harshith\"\n",
    "string2=\"Arshith\""
   ]
  },
  {
   "cell_type": "code",
   "execution_count": 93,
   "id": "21ee705e",
   "metadata": {},
   "outputs": [],
   "source": [
    "result=lambda x:True if x[0] in vowels else False"
   ]
  },
  {
   "cell_type": "code",
   "execution_count": 94,
   "id": "ad821e9f",
   "metadata": {},
   "outputs": [
    {
     "data": {
      "text/plain": [
       "False"
      ]
     },
     "execution_count": 94,
     "metadata": {},
     "output_type": "execute_result"
    }
   ],
   "source": [
    "result(string1)"
   ]
  },
  {
   "cell_type": "code",
   "execution_count": 95,
   "id": "3e5f34ef",
   "metadata": {},
   "outputs": [
    {
     "data": {
      "text/plain": [
       "True"
      ]
     },
     "execution_count": 95,
     "metadata": {},
     "output_type": "execute_result"
    }
   ],
   "source": [
    "result(string2)"
   ]
  },
  {
   "cell_type": "markdown",
   "id": "5238feaf",
   "metadata": {},
   "source": [
    "# Check if the string is numeric"
   ]
  },
  {
   "cell_type": "code",
   "execution_count": 98,
   "id": "24cd72d5",
   "metadata": {},
   "outputs": [],
   "source": [
    "num=lambda x: True if x.isnumeric() is True else False"
   ]
  },
  {
   "cell_type": "code",
   "execution_count": 99,
   "id": "36912826",
   "metadata": {},
   "outputs": [
    {
     "data": {
      "text/plain": [
       "True"
      ]
     },
     "execution_count": 99,
     "metadata": {},
     "output_type": "execute_result"
    }
   ],
   "source": [
    "num('12345')"
   ]
  },
  {
   "cell_type": "code",
   "execution_count": 100,
   "id": "6b16fccf",
   "metadata": {},
   "outputs": [
    {
     "data": {
      "text/plain": [
       "False"
      ]
     },
     "execution_count": 100,
     "metadata": {},
     "output_type": "execute_result"
    }
   ],
   "source": [
    "num('1sj222222')"
   ]
  },
  {
   "cell_type": "markdown",
   "id": "9d79636b",
   "metadata": {},
   "source": [
    "# Sort a list of tuples having fruit names and their quantity. [(\"mango\",99),(\"orange\",80), (\"grapes\", 1000)-"
   ]
  },
  {
   "cell_type": "code",
   "execution_count": 101,
   "id": "34e684cf",
   "metadata": {},
   "outputs": [],
   "source": [
    "l=[(\"mango\",99),(\"orange\",80), (\"grapes\", 1000)]"
   ]
  },
  {
   "cell_type": "code",
   "execution_count": 107,
   "id": "007b9b9a",
   "metadata": {},
   "outputs": [],
   "source": [
    "result=sorted(l,key=lambda x:x[1])"
   ]
  },
  {
   "cell_type": "code",
   "execution_count": 108,
   "id": "7eb52e4a",
   "metadata": {},
   "outputs": [
    {
     "data": {
      "text/plain": [
       "[('orange', 80), ('mango', 99), ('grapes', 1000)]"
      ]
     },
     "execution_count": 108,
     "metadata": {},
     "output_type": "execute_result"
    }
   ],
   "source": [
    "result"
   ]
  },
  {
   "cell_type": "markdown",
   "id": "14d89ca0",
   "metadata": {},
   "source": [
    "# Find the squares of numbers from 1 to 10Y\n"
   ]
  },
  {
   "cell_type": "code",
   "execution_count": 116,
   "id": "3d6222e9",
   "metadata": {},
   "outputs": [
    {
     "data": {
      "text/plain": [
       "[1, 4, 9, 16, 25, 36, 49, 64, 81, 100]"
      ]
     },
     "execution_count": 116,
     "metadata": {},
     "output_type": "execute_result"
    }
   ],
   "source": [
    "sq=[i**2 for i in range(1,11)]\n",
    "sq"
   ]
  },
  {
   "cell_type": "markdown",
   "id": "e00650e2",
   "metadata": {},
   "source": [
    "# Find the cubes of numbers from 1 to 10"
   ]
  },
  {
   "cell_type": "code",
   "execution_count": 117,
   "id": "717a75bd",
   "metadata": {},
   "outputs": [
    {
     "data": {
      "text/plain": [
       "[1, 8, 27, 64, 125, 216, 343, 512, 729, 1000]"
      ]
     },
     "execution_count": 117,
     "metadata": {},
     "output_type": "execute_result"
    }
   ],
   "source": [
    "cu=[i**3 for i in range(1,11)]\n",
    "cu"
   ]
  },
  {
   "cell_type": "markdown",
   "id": "38607e9d",
   "metadata": {},
   "source": [
    "# Check if a given number is even"
   ]
  },
  {
   "cell_type": "code",
   "execution_count": 118,
   "id": "c3731561",
   "metadata": {},
   "outputs": [],
   "source": [
    "n=2\n",
    "m=3\n",
    "check=lambda x: True if x%2==0 else False"
   ]
  },
  {
   "cell_type": "code",
   "execution_count": 119,
   "id": "49118adf",
   "metadata": {},
   "outputs": [
    {
     "data": {
      "text/plain": [
       "True"
      ]
     },
     "execution_count": 119,
     "metadata": {},
     "output_type": "execute_result"
    }
   ],
   "source": [
    "check(2)"
   ]
  },
  {
   "cell_type": "code",
   "execution_count": 120,
   "id": "d9293fff",
   "metadata": {},
   "outputs": [
    {
     "data": {
      "text/plain": [
       "False"
      ]
     },
     "execution_count": 120,
     "metadata": {},
     "output_type": "execute_result"
    }
   ],
   "source": [
    "check(3)"
   ]
  },
  {
   "cell_type": "markdown",
   "id": "6cd14415",
   "metadata": {},
   "source": [
    "# Filter odd numbers from the given list.\n",
    "[1,2,3,4,5,6,7,8,9,10-"
   ]
  },
  {
   "cell_type": "code",
   "execution_count": 121,
   "id": "bbad1bed",
   "metadata": {},
   "outputs": [],
   "source": [
    "l=[1,2,3,4,5,6,7,8,9,10]"
   ]
  },
  {
   "cell_type": "code",
   "execution_count": 122,
   "id": "25adb8d4",
   "metadata": {},
   "outputs": [
    {
     "data": {
      "text/plain": [
       "[1, 3, 5, 7, 9]"
      ]
     },
     "execution_count": 122,
     "metadata": {},
     "output_type": "execute_result"
    }
   ],
   "source": [
    "list(filter(lambda x:x%2!=0,l))"
   ]
  },
  {
   "cell_type": "markdown",
   "id": "fd4ebcf8",
   "metadata": {},
   "source": [
    "# Sort a list of integers into positive and negative integers lists.\n",
    "[1,2,3,4,5,6,-1,-2,-3,-4,-5,0]"
   ]
  },
  {
   "cell_type": "code",
   "execution_count": 137,
   "id": "5ba97374",
   "metadata": {},
   "outputs": [],
   "source": [
    "l=[1,2,3,4,5,6,-1,-2,-3,-4,-5,0]"
   ]
  },
  {
   "cell_type": "code",
   "execution_count": 138,
   "id": "0ef0ed82",
   "metadata": {},
   "outputs": [],
   "source": [
    "pve=[]\n",
    "nve=[]"
   ]
  },
  {
   "cell_type": "code",
   "execution_count": 139,
   "id": "d76eb184",
   "metadata": {},
   "outputs": [],
   "source": [
    "result=[pve.append(i) if i>=0 else nve.append(i) for i in l]"
   ]
  },
  {
   "cell_type": "code",
   "execution_count": 140,
   "id": "ce98cf22",
   "metadata": {},
   "outputs": [
    {
     "data": {
      "text/plain": [
       "[1, 2, 3, 4, 5, 6, 0]"
      ]
     },
     "execution_count": 140,
     "metadata": {},
     "output_type": "execute_result"
    }
   ],
   "source": [
    "pve"
   ]
  },
  {
   "cell_type": "code",
   "execution_count": 141,
   "id": "95870b42",
   "metadata": {},
   "outputs": [
    {
     "data": {
      "text/plain": [
       "[-1, -2, -3, -4, -5]"
      ]
     },
     "execution_count": 141,
     "metadata": {},
     "output_type": "execute_result"
    }
   ],
   "source": [
    "nve"
   ]
  },
  {
   "cell_type": "code",
   "execution_count": null,
   "id": "bbd5431c",
   "metadata": {},
   "outputs": [],
   "source": []
  }
 ],
 "metadata": {
  "kernelspec": {
   "display_name": "Python 3 (ipykernel)",
   "language": "python",
   "name": "python3"
  },
  "language_info": {
   "codemirror_mode": {
    "name": "ipython",
    "version": 3
   },
   "file_extension": ".py",
   "mimetype": "text/x-python",
   "name": "python",
   "nbconvert_exporter": "python",
   "pygments_lexer": "ipython3",
   "version": "3.9.13"
  }
 },
 "nbformat": 4,
 "nbformat_minor": 5
}
